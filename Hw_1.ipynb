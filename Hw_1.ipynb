{
 "cells": [
  {
   "cell_type": "code",
   "execution_count": 1,
   "id": "b232d153-94ae-4ff0-a431-fded31987c49",
   "metadata": {},
   "outputs": [
    {
     "name": "stdout",
     "output_type": "stream",
     "text": [
      "[ 1  2  3  4  5  6  7  8  9 10]\n"
     ]
    }
   ],
   "source": [
    "import numpy as np\n",
    "\n",
    "one_vector = np.array([1, 2, 3, 4, 5, 6, 7, 8, 9, 10])\n",
    "print(one_vector)\n"
   ]
  },
  {
   "cell_type": "code",
   "execution_count": 3,
   "id": "7da72fb1-34c6-46e0-8894-fb02c36fd968",
   "metadata": {},
   "outputs": [
    {
     "name": "stdout",
     "output_type": "stream",
     "text": [
      "[[0. 0. 0.]\n",
      " [0. 0. 0.]\n",
      " [0. 0. 0.]]\n"
     ]
    }
   ],
   "source": [
    "zero_matrix = np.zeros((3, 3))\n",
    "print(zero_matrix)"
   ]
  },
  {
   "cell_type": "code",
   "execution_count": 5,
   "id": "faff559a-6665-4674-936e-63dc01cf802b",
   "metadata": {},
   "outputs": [
    {
     "name": "stdout",
     "output_type": "stream",
     "text": [
      "[[7 9 3 9 4]\n",
      " [9 6 5 5 6]\n",
      " [1 9 9 8 1]\n",
      " [7 8 1 1 4]\n",
      " [7 1 7 2 5]]\n"
     ]
    }
   ],
   "source": [
    "matrix_5_5 = np.random.randint(1, 10, size=(5, 5))\n",
    "print(matrix_5_5)"
   ]
  },
  {
   "cell_type": "code",
   "execution_count": 6,
   "id": "62b030cc-5081-4005-b70c-8b2cfc771bd5",
   "metadata": {},
   "outputs": [
    {
     "name": "stdout",
     "output_type": "stream",
     "text": [
      "[6 9 5 9 8]\n",
      "[-4  5 -3 -1 -4]\n",
      "[ 5 14  4 20 12]\n"
     ]
    }
   ],
   "source": [
    "one_ONE_vector = np.random.randint(1, 10, size=(5,))\n",
    "\n",
    "two_TWO_vector = np.random.randint(1, 10, size=(5,))\n",
    "\n",
    "print(one_ONE_vector + two_TWO_vector)\n",
    "print(one_ONE_vector - two_TWO_vector)\n",
    "print(one_ONE_vector * two_TWO_vector)"
   ]
  },
  {
   "cell_type": "code",
   "execution_count": 7,
   "id": "9138f7e0-a514-4c01-96fb-16fe25a34632",
   "metadata": {},
   "outputs": [
    {
     "name": "stdout",
     "output_type": "stream",
     "text": [
      "165\n"
     ]
    }
   ],
   "source": [
    "vector_7_size = np.random.randint(1, 10, size=(7,))\n",
    "vector_size_two = np.random.randint(1, 10, size=(7,))\n",
    "scalar = np.dot(vector_7_size, vector_size_two)\n",
    "print(scalar)\n"
   ]
  },
  {
   "cell_type": "code",
   "execution_count": 8,
   "id": "323050cc-323f-443e-ad82-04086506f87d",
   "metadata": {},
   "outputs": [
    {
     "name": "stdout",
     "output_type": "stream",
     "text": [
      "[[68 56 76]\n",
      " [55 52 65]]\n"
     ]
    }
   ],
   "source": [
    "one_ONE_matrix = np.random.randint(1, 10, size=(2, 2))\n",
    "two_TWO_matrix = np.random.randint(1, 10, size=(2, 3))\n",
    "dobutok = np.dot(one_ONE_matrix, two_TWO_matrix)\n",
    "print(dobutok)"
   ]
  },
  {
   "cell_type": "code",
   "execution_count": 9,
   "id": "a946f689-95e6-46d4-b0c5-ecf4bd1c601d",
   "metadata": {},
   "outputs": [
    {
     "name": "stdout",
     "output_type": "stream",
     "text": [
      "[[5 8 5]\n",
      " [6 4 8]\n",
      " [4 2 9]]\n"
     ]
    }
   ],
   "source": [
    "matrix_3_3 = np.random.randint(1, 10, size=(3, 3))\n",
    "obernen = np.linalg.inv(matrix_3_3)\n",
    "print(matrix_3_3)\n"
   ]
  },
  {
   "cell_type": "code",
   "execution_count": 10,
   "id": "926d3735-3dad-47b6-8395-84e1a3a85e74",
   "metadata": {},
   "outputs": [
    {
     "name": "stdout",
     "output_type": "stream",
     "text": [
      "[[0.90020653 0.62575806 0.31750387 0.77535876]\n",
      " [0.76593198 0.72956652 0.08566124 0.89376591]\n",
      " [0.0767628  0.63463296 0.52316569 0.01113984]\n",
      " [0.314503   0.02687513 0.70457852 0.38786341]]\n"
     ]
    }
   ],
   "source": [
    "matrix_4_four = np.random.random(size=(4, 4))\n",
    "transp_matrix = matrix_4_four.T\n",
    "print(transp_matrix)\n"
   ]
  },
  {
   "cell_type": "code",
   "execution_count": 16,
   "id": "58053d67-1206-4778-b052-2cb35ab20385",
   "metadata": {},
   "outputs": [
    {
     "name": "stdout",
     "output_type": "stream",
     "text": [
      "[122 110 178]\n"
     ]
    }
   ],
   "source": [
    "matrix_3_4 = np.random.randint(1, 10, size=(3, 4))\n",
    "vec_4_size = np.random.randint(1, 10, size=(4,))\n",
    "dob_of_mat_and_vec = np.dot(matrix_3_4, vec_4_size)\n",
    "print(dob_of_mat_and_vec)"
   ]
  },
  {
   "cell_type": "code",
   "execution_count": 15,
   "id": "bbbf3d06-0b2c-433a-b7ce-b67a76e07d85",
   "metadata": {},
   "outputs": [
    {
     "name": "stdout",
     "output_type": "stream",
     "text": [
      "[ 47  78 113]\n"
     ]
    }
   ],
   "source": [
    "matrix_2_on_three = np.random.random(size=(2, 3))\n",
    "vec_3_size = np.random.random(size=(3,))\n",
    "dob_of_mat_and_vec_2 = np.dot(matrix_2_on_three, vec_3_size)\n",
    "print(dob_of_mat_and_vec)\n"
   ]
  },
  {
   "cell_type": "code",
   "execution_count": 14,
   "id": "402506e8-9d21-4437-9350-d46596f41b5d",
   "metadata": {},
   "outputs": [
    {
     "name": "stdout",
     "output_type": "stream",
     "text": [
      "[[81 18]\n",
      " [16  2]]\n"
     ]
    }
   ],
   "source": [
    "\n",
    "matrix_2_on_two_a = np.random.randint(1, 10, size=(2, 2))\n",
    "matrix_2_on_two_b = np.random.randint(1, 10, size=(2, 2))\n",
    "print(matrix_2_on_two_a * matrix_2_on_two_b)"
   ]
  },
  {
   "cell_type": "code",
   "execution_count": 17,
   "id": "67e75340-607c-49b5-9e2b-4f0f4043b70e",
   "metadata": {},
   "outputs": [
    {
     "name": "stdout",
     "output_type": "stream",
     "text": [
      "[[52 43]\n",
      " [68 59]]\n"
     ]
    }
   ],
   "source": [
    "matrix_2_on_two_с = np.random.randint(1, 10, size=(2, 2))\n",
    "matrix_2_on_two_d = np.random.randint(1, 10, size=(2, 2))\n",
    "dobutok = np.dot(matrix_2_on_two_с, matrix_2_on_two_d)\n",
    "print(dobutok)"
   ]
  },
  {
   "cell_type": "code",
   "execution_count": 18,
   "id": "33b43ac1-2585-44bf-b61b-146b9db68b78",
   "metadata": {},
   "outputs": [
    {
     "name": "stdout",
     "output_type": "stream",
     "text": [
      "1092\n"
     ]
    }
   ],
   "source": [
    "matrix_100_el = np.random.randint(1, 100, size=(5, 5))\n",
    "mat_sum = np.sum(matrix_100_el)\n",
    "print(mat_sum)\n"
   ]
  },
  {
   "cell_type": "code",
   "execution_count": 19,
   "id": "3d52ceac-0504-45b7-bf1c-9d70c511bdf3",
   "metadata": {},
   "outputs": [
    {
     "name": "stdout",
     "output_type": "stream",
     "text": [
      "[[ 0 -8  2 -1]\n",
      " [ 4  0  0  0]\n",
      " [ 2  1 -1  8]\n",
      " [ 0  0  1 -1]]\n"
     ]
    }
   ],
   "source": [
    "matrix_4_on_four_f = np.random.randint(1, 10, size=(4, 4))\n",
    "matrix_4_on_four_g = np.random.randint(1, 10, size=(4, 4))\n",
    "riznytsa = matrix_4_on_four_f - matrix_4_on_four_g\n",
    "print(riznytsa)\n"
   ]
  },
  {
   "cell_type": "code",
   "execution_count": 20,
   "id": "46d6c903-25f9-4883-bd92-55830a7157ef",
   "metadata": {},
   "outputs": [
    {
     "name": "stdout",
     "output_type": "stream",
     "text": [
      "[1.08003478 1.21849906 1.69712884]\n"
     ]
    }
   ],
   "source": [
    "matrix_3_3_e = np.random.random(size=(3, 3))\n",
    "sum_vec_of_matrix = np.sum(matrix_3_3_e,axis=1)\n",
    "print(sum_vec_of_matrix)"
   ]
  },
  {
   "cell_type": "code",
   "execution_count": 21,
   "id": "c8e8256b-8323-4dc5-8c05-ffae6d465e7c",
   "metadata": {},
   "outputs": [
    {
     "name": "stdout",
     "output_type": "stream",
     "text": [
      "[[ 1  4 64 36]\n",
      " [25 16 16 81]\n",
      " [49 25 16 25]]\n"
     ]
    }
   ],
   "source": [
    "matrix_3_3_р = np.random.randint(1,10,size=(3, 4))\n",
    "square_matrix_sum = matrix_3_3_р ** 2\n",
    "print(square_matrix_sum)\n"
   ]
  },
  {
   "cell_type": "code",
   "execution_count": 22,
   "id": "c06a647b-a3dc-4e23-aa38-e34c14cecba6",
   "metadata": {},
   "outputs": [
    {
     "name": "stdout",
     "output_type": "stream",
     "text": [
      "[3.60555128 3.87298335 6.40312424 6.164414  ]\n"
     ]
    }
   ],
   "source": [
    "\n",
    "vec_1 = np.random.randint(1,51,size=(4,))\n",
    "vec_2_x = np.sqrt(vec_1)\n",
    "print(vec_2_x)\n"
   ]
  },
  {
   "cell_type": "code",
   "execution_count": null,
   "id": "cb9fa3d3-42f8-4d65-b26d-f8376ac11598",
   "metadata": {},
   "outputs": [],
   "source": []
  }
 ],
 "metadata": {
  "kernelspec": {
   "display_name": "Python 3 (ipykernel)",
   "language": "python",
   "name": "python3"
  },
  "language_info": {
   "codemirror_mode": {
    "name": "ipython",
    "version": 3
   },
   "file_extension": ".py",
   "mimetype": "text/x-python",
   "name": "python",
   "nbconvert_exporter": "python",
   "pygments_lexer": "ipython3",
   "version": "3.12.1"
  }
 },
 "nbformat": 4,
 "nbformat_minor": 5
}
